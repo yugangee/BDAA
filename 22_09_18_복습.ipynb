{
 "cells": [
  {
   "cell_type": "code",
   "execution_count": 1,
   "id": "7a897d72",
   "metadata": {},
   "outputs": [],
   "source": [
    "import datetime"
   ]
  },
  {
   "cell_type": "code",
   "execution_count": 4,
   "id": "9cb29113",
   "metadata": {},
   "outputs": [
    {
     "data": {
      "text/plain": [
       "datetime.datetime(2022, 9, 25, 16, 45, 10)"
      ]
     },
     "execution_count": 4,
     "metadata": {},
     "output_type": "execute_result"
    }
   ],
   "source": [
    "date = datetime.date(year = 2022, month = 9, day = 25)\n",
    "time = datetime.time(hour = 16, minute = 45, second = 10)\n",
    "dt = datetime.datetime(year = 2022, month = 9, day=25,hour = 16, minute = 45, second = 10)\n",
    "dt"
   ]
  },
  {
   "cell_type": "code",
   "execution_count": 5,
   "id": "2acb6a42",
   "metadata": {},
   "outputs": [
    {
     "name": "stdout",
     "output_type": "stream",
     "text": [
      "2022-09-25\n",
      "16:45:10\n",
      "2022-09-25 16:45:10\n"
     ]
    }
   ],
   "source": [
    "print(date)\n",
    "print(time)\n",
    "print(dt)"
   ]
  },
  {
   "cell_type": "code",
   "execution_count": 6,
   "id": "d9ac846a",
   "metadata": {},
   "outputs": [
    {
     "data": {
      "text/plain": [
       "datetime.timedelta(days=10, seconds=33006)"
      ]
     },
     "execution_count": 6,
     "metadata": {},
     "output_type": "execute_result"
    }
   ],
   "source": [
    "dt_1 = datetime.timedelta(weeks =1, days = 3, hours = 9, minutes =10, seconds=6)\n",
    "dt_1"
   ]
  },
  {
   "cell_type": "code",
   "execution_count": 7,
   "id": "9d8cff79",
   "metadata": {},
   "outputs": [
    {
     "data": {
      "text/plain": [
       "datetime.time(16, 45, 10)"
      ]
     },
     "execution_count": 7,
     "metadata": {},
     "output_type": "execute_result"
    }
   ],
   "source": [
    "#오늘\n",
    "time"
   ]
  },
  {
   "cell_type": "code",
   "execution_count": 9,
   "id": "ecac7784",
   "metadata": {},
   "outputs": [
    {
     "data": {
      "text/plain": [
       "datetime.date(2022, 10, 5)"
      ]
     },
     "execution_count": 9,
     "metadata": {},
     "output_type": "execute_result"
    }
   ],
   "source": [
    "#date 시계열 데이터 + timedelta\n",
    "date+dt_1"
   ]
  },
  {
   "cell_type": "code",
   "execution_count": 10,
   "id": "f5c27976",
   "metadata": {},
   "outputs": [
    {
     "data": {
      "text/plain": [
       "Timestamp('2022-09-25 16:59:10')"
      ]
     },
     "execution_count": 10,
     "metadata": {},
     "output_type": "execute_result"
    }
   ],
   "source": [
    "import pandas as pd\n",
    "pd.Timestamp(year = 2022, month = 9, day=25, hour = 16, minute = 59, second = 10)"
   ]
  },
  {
   "cell_type": "code",
   "execution_count": 11,
   "id": "c1d59ec8",
   "metadata": {},
   "outputs": [
    {
     "data": {
      "text/plain": [
       "Timestamp('2022-09-25 00:00:00')"
      ]
     },
     "execution_count": 11,
     "metadata": {},
     "output_type": "execute_result"
    }
   ],
   "source": [
    "pd.Timestamp('2022/9/25')"
   ]
  },
  {
   "cell_type": "code",
   "execution_count": 15,
   "id": "74738c5e",
   "metadata": {},
   "outputs": [
    {
     "data": {
      "text/plain": [
       "Timestamp('1970-01-01 00:00:00.000000008')"
      ]
     },
     "execution_count": 15,
     "metadata": {},
     "output_type": "execute_result"
    }
   ],
   "source": [
    "pd.Timestamp(2022/9/25)"
   ]
  },
  {
   "cell_type": "code",
   "execution_count": 16,
   "id": "13c28066",
   "metadata": {},
   "outputs": [
    {
     "data": {
      "text/plain": [
       "Timestamp('1970-01-01 00:00:00.000000100')"
      ]
     },
     "execution_count": 16,
     "metadata": {},
     "output_type": "execute_result"
    }
   ],
   "source": [
    "#Timestamp 인자\n",
    "pd.Timestamp(100)"
   ]
  },
  {
   "cell_type": "code",
   "execution_count": 18,
   "id": "461927ee",
   "metadata": {},
   "outputs": [
    {
     "data": {
      "text/plain": [
       "Timestamp('2022-09-25 00:00:00')"
      ]
     },
     "execution_count": 18,
     "metadata": {},
     "output_type": "execute_result"
    }
   ],
   "source": [
    "pd.to_datetime('2022-9-25')"
   ]
  },
  {
   "cell_type": "code",
   "execution_count": 19,
   "id": "de86d852",
   "metadata": {},
   "outputs": [
    {
     "data": {
      "text/plain": [
       "Timestamp('2023-01-03 00:00:00')"
      ]
     },
     "execution_count": 19,
     "metadata": {},
     "output_type": "execute_result"
    }
   ],
   "source": [
    "pd.to_datetime(100, unit='D', origin='2022-9-25')"
   ]
  },
  {
   "cell_type": "code",
   "execution_count": null,
   "id": "da8e4b03",
   "metadata": {},
   "outputs": [],
   "source": []
  }
 ],
 "metadata": {
  "kernelspec": {
   "display_name": "Python 3 (ipykernel)",
   "language": "python",
   "name": "python3"
  },
  "language_info": {
   "codemirror_mode": {
    "name": "ipython",
    "version": 3
   },
   "file_extension": ".py",
   "mimetype": "text/x-python",
   "name": "python",
   "nbconvert_exporter": "python",
   "pygments_lexer": "ipython3",
   "version": "3.10.4"
  }
 },
 "nbformat": 4,
 "nbformat_minor": 5
}
