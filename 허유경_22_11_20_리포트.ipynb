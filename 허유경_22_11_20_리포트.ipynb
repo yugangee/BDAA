{
 "cells": [
  {
   "cell_type": "markdown",
   "id": "70c4cd42",
   "metadata": {},
   "source": [
    "# 과제"
   ]
  },
  {
   "cell_type": "markdown",
   "id": "a0060cec",
   "metadata": {},
   "source": [
    "# 나만의 정규식 패턴 찾기!\n",
    "\n",
    "이메일 주소패턴을 만들어주세요! 정규식으로\n",
    "\n",
    "주민등록번호 뒷자리를 날려버리는 패턴 ( 뒤에 첫 넘버는 ,남성, 여성 비교해야 하므로)"
   ]
  },
  {
   "cell_type": "code",
   "execution_count": 118,
   "id": "1c5d01e6",
   "metadata": {},
   "outputs": [],
   "source": [
    "import re"
   ]
  },
  {
   "cell_type": "code",
   "execution_count": 119,
   "id": "694d56dd",
   "metadata": {},
   "outputs": [],
   "source": [
    "#이메일 주소 패턴"
   ]
  },
  {
   "cell_type": "code",
   "execution_count": 120,
   "id": "8322926b",
   "metadata": {},
   "outputs": [],
   "source": [
    "email = re.compile('[a-zA-Z0-9+-_.]+@[a-zA-Z0-9-]+[a-zA-Z0-9-.]')"
   ]
  },
  {
   "cell_type": "code",
   "execution_count": 121,
   "id": "3c4d8cdb",
   "metadata": {},
   "outputs": [],
   "source": [
    "find = email.findall('aaaa@naver.com')"
   ]
  },
  {
   "cell_type": "code",
   "execution_count": 122,
   "id": "027d6d2d",
   "metadata": {},
   "outputs": [
    {
     "data": {
      "text/plain": [
       "['aaaa@naver.']"
      ]
     },
     "execution_count": 122,
     "metadata": {},
     "output_type": "execute_result"
    }
   ],
   "source": [
    "find"
   ]
  },
  {
   "cell_type": "code",
   "execution_count": 123,
   "id": "b3e863c6",
   "metadata": {},
   "outputs": [],
   "source": [
    "#주민등록번호 뒷자리 날리기"
   ]
  },
  {
   "cell_type": "code",
   "execution_count": 124,
   "id": "01ea1e79",
   "metadata": {},
   "outputs": [],
   "source": [
    "pattern = re.compile('[0-9]{7}')"
   ]
  },
  {
   "cell_type": "code",
   "execution_count": 125,
   "id": "fa63bf07",
   "metadata": {},
   "outputs": [],
   "source": [
    "sub_num= pattern.sub(\" \",'010101-0101010') "
   ]
  },
  {
   "cell_type": "code",
   "execution_count": 126,
   "id": "5c46fd98",
   "metadata": {},
   "outputs": [
    {
     "name": "stdout",
     "output_type": "stream",
     "text": [
      "010101- \n"
     ]
    }
   ],
   "source": [
    "print(sub_num)"
   ]
  },
  {
   "cell_type": "code",
   "execution_count": 127,
   "id": "97be76fc",
   "metadata": {},
   "outputs": [],
   "source": [
    "sub_num1= pattern.sub(\"*******\",'010101-0101010') "
   ]
  },
  {
   "cell_type": "code",
   "execution_count": 117,
   "id": "8645d7fb",
   "metadata": {},
   "outputs": [
    {
     "name": "stdout",
     "output_type": "stream",
     "text": [
      "010101-*******\n"
     ]
    }
   ],
   "source": [
    "print(sub_num1)"
   ]
  }
 ],
 "metadata": {
  "kernelspec": {
   "display_name": "Python 3 (ipykernel)",
   "language": "python",
   "name": "python3"
  },
  "language_info": {
   "codemirror_mode": {
    "name": "ipython",
    "version": 3
   },
   "file_extension": ".py",
   "mimetype": "text/x-python",
   "name": "python",
   "nbconvert_exporter": "python",
   "pygments_lexer": "ipython3",
   "version": "3.10.4"
  }
 },
 "nbformat": 4,
 "nbformat_minor": 5
}
