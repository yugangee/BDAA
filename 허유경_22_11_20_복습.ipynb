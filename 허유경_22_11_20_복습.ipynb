{
 "cells": [
  {
   "cell_type": "markdown",
   "id": "a259a281",
   "metadata": {},
   "source": [
    "# 복습"
   ]
  },
  {
   "cell_type": "code",
   "execution_count": 1,
   "id": "796ebfc4",
   "metadata": {},
   "outputs": [],
   "source": [
    "import re"
   ]
  },
  {
   "cell_type": "code",
   "execution_count": 3,
   "id": "06750065",
   "metadata": {},
   "outputs": [
    {
     "data": {
      "text/plain": [
       "<re.Match object; span=(0, 2), match='hi'>"
      ]
     },
     "execution_count": 3,
     "metadata": {},
     "output_type": "execute_result"
    }
   ],
   "source": [
    "re.match('hi','hi, python!')"
   ]
  },
  {
   "cell_type": "code",
   "execution_count": 6,
   "id": "b2cbe018",
   "metadata": {},
   "outputs": [],
   "source": [
    "#대소문자 구분함\n",
    "re.match('hello','Hello, python!')"
   ]
  },
  {
   "cell_type": "code",
   "execution_count": 5,
   "id": "554cd954",
   "metadata": {},
   "outputs": [
    {
     "data": {
      "text/plain": [
       "<re.Match object; span=(0, 5), match='hello'>"
      ]
     },
     "execution_count": 5,
     "metadata": {},
     "output_type": "execute_result"
    }
   ],
   "source": [
    "re.search('hello','hello, python!')"
   ]
  },
  {
   "cell_type": "code",
   "execution_count": 7,
   "id": "23ac18ee",
   "metadata": {},
   "outputs": [
    {
     "data": {
      "text/plain": [
       "<re.Match object; span=(8, 13), match='hello'>"
      ]
     },
     "execution_count": 7,
     "metadata": {},
     "output_type": "execute_result"
    }
   ],
   "source": [
    "re.search('hello','python!,hello')"
   ]
  },
  {
   "cell_type": "code",
   "execution_count": 8,
   "id": "a8256c9c",
   "metadata": {},
   "outputs": [],
   "source": [
    "re.match('[0-9]','abc')"
   ]
  },
  {
   "cell_type": "code",
   "execution_count": 11,
   "id": "516815c8",
   "metadata": {},
   "outputs": [],
   "source": [
    "re.match('[0-9]','abskdjabshbc')"
   ]
  },
  {
   "cell_type": "code",
   "execution_count": 12,
   "id": "d09ec362",
   "metadata": {},
   "outputs": [
    {
     "data": {
      "text/plain": [
       "<re.Match object; span=(0, 1), match='a'>"
      ]
     },
     "execution_count": 12,
     "metadata": {},
     "output_type": "execute_result"
    }
   ],
   "source": [
    "re.match('[a-d]','abcdfgh')"
   ]
  },
  {
   "cell_type": "code",
   "execution_count": 13,
   "id": "8abc2982",
   "metadata": {},
   "outputs": [
    {
     "data": {
      "text/plain": [
       "<re.Match object; span=(0, 13), match='aaaaaaaaaaaab'>"
      ]
     },
     "execution_count": 13,
     "metadata": {},
     "output_type": "execute_result"
    }
   ],
   "source": [
    "re.match('a*b','aaaaaaaaaaaab')"
   ]
  },
  {
   "cell_type": "code",
   "execution_count": 14,
   "id": "81156c0e",
   "metadata": {},
   "outputs": [
    {
     "data": {
      "text/plain": [
       "<re.Match object; span=(0, 15), match='aaaaaaaaaaaaaab'>"
      ]
     },
     "execution_count": 14,
     "metadata": {},
     "output_type": "execute_result"
    }
   ],
   "source": [
    "re.match('a+b','aaaaaaaaaaaaaab')"
   ]
  },
  {
   "cell_type": "markdown",
   "id": "30b59246",
   "metadata": {},
   "source": [
    "# {n} : 앞 문자가 n번 반복되는 패턴"
   ]
  },
  {
   "cell_type": "code",
   "execution_count": 15,
   "id": "80130b69",
   "metadata": {},
   "outputs": [],
   "source": [
    "pattern = re.compile('A{3}B')"
   ]
  },
  {
   "cell_type": "code",
   "execution_count": 16,
   "id": "069f8f67",
   "metadata": {},
   "outputs": [
    {
     "data": {
      "text/plain": [
       "<re.Match object; span=(1, 5), match='AAAB'>"
      ]
     },
     "execution_count": 16,
     "metadata": {},
     "output_type": "execute_result"
    }
   ],
   "source": [
    "pattern.search('AAAAB')"
   ]
  },
  {
   "cell_type": "markdown",
   "id": "ce4a1672",
   "metadata": {},
   "source": [
    "# {m,n} : 앞 문자가 m번 반복되는 패턴부터 n번까지 반복되는 패턴{m,n} : 앞 문자가 m번 반복되는 패턴부터 n번까지 반복되는 패턴"
   ]
  },
  {
   "cell_type": "code",
   "execution_count": 17,
   "id": "5bfa4f1d",
   "metadata": {},
   "outputs": [],
   "source": [
    "pattern = re.compile('AC{2,7}B')"
   ]
  },
  {
   "cell_type": "code",
   "execution_count": 18,
   "id": "95f9981b",
   "metadata": {},
   "outputs": [
    {
     "data": {
      "text/plain": [
       "<re.Match object; span=(0, 9), match='ACCCCCCCB'>"
      ]
     },
     "execution_count": 18,
     "metadata": {},
     "output_type": "execute_result"
    }
   ],
   "source": [
    "pattern.search('ACCCCCCCB')"
   ]
  },
  {
   "cell_type": "markdown",
   "id": "81a60f61",
   "metadata": {},
   "source": [
    "패턴만들기"
   ]
  },
  {
   "cell_type": "code",
   "execution_count": 24,
   "id": "dca703b0",
   "metadata": {},
   "outputs": [],
   "source": [
    "pattern = re.compile('[a-zA-Z0-9]')"
   ]
  },
  {
   "cell_type": "code",
   "execution_count": 25,
   "id": "ba3dacfb",
   "metadata": {},
   "outputs": [
    {
     "data": {
      "text/plain": [
       "<re.Match object; span=(0, 1), match='a'>"
      ]
     },
     "execution_count": 25,
     "metadata": {},
     "output_type": "execute_result"
    }
   ],
   "source": [
    "pattern.search('asdlfjla;sekj;fkasdf_+)_dsadfjasl;ejfas')"
   ]
  },
  {
   "cell_type": "code",
   "execution_count": 26,
   "id": "c6610112",
   "metadata": {},
   "outputs": [],
   "source": [
    "pattern = re.compile('[가-힣]+')"
   ]
  },
  {
   "cell_type": "code",
   "execution_count": 27,
   "id": "b19577f3",
   "metadata": {},
   "outputs": [
    {
     "data": {
      "text/plain": [
       "<re.Match object; span=(21, 26), match='안녕하세요'>"
      ]
     },
     "execution_count": 27,
     "metadata": {},
     "output_type": "execute_result"
    }
   ],
   "source": [
    "pattern.search('sdjfk;lasjdfk;alsjdf_안녕하세요?')"
   ]
  },
  {
   "cell_type": "code",
   "execution_count": 28,
   "id": "cf8f2da6",
   "metadata": {},
   "outputs": [
    {
     "data": {
      "text/plain": [
       "<re.Match object; span=(21, 26), match='안녕하세요'>"
      ]
     },
     "execution_count": 28,
     "metadata": {},
     "output_type": "execute_result"
    }
   ],
   "source": [
    "pattern.search('sdjfk;lasjdfk;alsjdf_안녕하세요,반갑습니다!')"
   ]
  },
  {
   "cell_type": "markdown",
   "id": "1cbf9271",
   "metadata": {},
   "source": [
    "정규식 패턴"
   ]
  },
  {
   "cell_type": "code",
   "execution_count": 30,
   "id": "d7c8c180",
   "metadata": {},
   "outputs": [],
   "source": [
    "pattern = re.compile('010-[0-9]{4}-[0-9]{4}')"
   ]
  },
  {
   "cell_type": "code",
   "execution_count": 31,
   "id": "38d06fe4",
   "metadata": {},
   "outputs": [
    {
     "data": {
      "text/plain": [
       "<re.Match object; span=(0, 13), match='010-1234-5678'>"
      ]
     },
     "execution_count": 31,
     "metadata": {},
     "output_type": "execute_result"
    }
   ],
   "source": [
    "pattern.search('010-1234-5678')"
   ]
  },
  {
   "cell_type": "code",
   "execution_count": null,
   "id": "3633ff16",
   "metadata": {},
   "outputs": [],
   "source": []
  },
  {
   "cell_type": "code",
   "execution_count": null,
   "id": "7c944341",
   "metadata": {},
   "outputs": [],
   "source": []
  },
  {
   "cell_type": "markdown",
   "id": "7dd1af1f",
   "metadata": {},
   "source": [
    "findall 함수"
   ]
  },
  {
   "cell_type": "code",
   "execution_count": 32,
   "id": "b30fe535",
   "metadata": {},
   "outputs": [],
   "source": [
    "pattern = re.compile('[a-z]+')\n",
    "nlp = pattern.findall('AdDfesazdEDfs123DFdst!')"
   ]
  },
  {
   "cell_type": "code",
   "execution_count": 33,
   "id": "a616d69f",
   "metadata": {},
   "outputs": [
    {
     "data": {
      "text/plain": [
       "['d', 'fesazd', 'fs', 'dst']"
      ]
     },
     "execution_count": 33,
     "metadata": {},
     "output_type": "execute_result"
    }
   ],
   "source": [
    "nlp"
   ]
  },
  {
   "cell_type": "markdown",
   "id": "d5786548",
   "metadata": {},
   "source": [
    "split 함수"
   ]
  },
  {
   "cell_type": "code",
   "execution_count": 34,
   "id": "13f9bfaf",
   "metadata": {},
   "outputs": [
    {
     "name": "stdout",
     "output_type": "stream",
     "text": [
      "['python', ' R', ' Sql', ' GA360']\n"
     ]
    }
   ],
   "source": [
    "pattern = re.compile(',') # : . % \n",
    "sp = pattern.split('python, R, Sql, GA360')\n",
    "\n",
    "print(sp)"
   ]
  },
  {
   "cell_type": "markdown",
   "id": "447c65d4",
   "metadata": {},
   "source": [
    "sub 함수"
   ]
  },
  {
   "cell_type": "code",
   "execution_count": 35,
   "id": "796b3512",
   "metadata": {},
   "outputs": [
    {
     "name": "stdout",
     "output_type": "stream",
     "text": [
      "010!4567!8910\n"
     ]
    }
   ],
   "source": [
    "pattern = re.compile('-')\n",
    "sub_sp = pattern.sub('!','010-4567-8910') \n",
    "print(sub_sp)"
   ]
  },
  {
   "cell_type": "code",
   "execution_count": 36,
   "id": "e6e84da1",
   "metadata": {},
   "outputs": [],
   "source": [
    "pattern = re.compile('^[a-z]')"
   ]
  },
  {
   "cell_type": "code",
   "execution_count": 37,
   "id": "ebe85425",
   "metadata": {},
   "outputs": [
    {
     "data": {
      "text/plain": [
       "<re.Match object; span=(0, 1), match='a'>"
      ]
     },
     "execution_count": 37,
     "metadata": {},
     "output_type": "execute_result"
    }
   ],
   "source": [
    "pattern.search('aasdf123')"
   ]
  },
  {
   "cell_type": "code",
   "execution_count": null,
   "id": "6bf8587f",
   "metadata": {},
   "outputs": [],
   "source": []
  }
 ],
 "metadata": {
  "kernelspec": {
   "display_name": "Python 3 (ipykernel)",
   "language": "python",
   "name": "python3"
  },
  "language_info": {
   "codemirror_mode": {
    "name": "ipython",
    "version": 3
   },
   "file_extension": ".py",
   "mimetype": "text/x-python",
   "name": "python",
   "nbconvert_exporter": "python",
   "pygments_lexer": "ipython3",
   "version": "3.10.4"
  }
 },
 "nbformat": 4,
 "nbformat_minor": 5
}
